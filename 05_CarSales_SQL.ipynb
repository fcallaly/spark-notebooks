{
 "cells": [
  {
   "cell_type": "code",
   "execution_count": 1,
   "metadata": {},
   "outputs": [],
   "source": [
    "import os\n",
    "\n",
    "os.environ['PYSPARK_PYTHON'] = 'python'"
   ]
  },
  {
   "cell_type": "code",
   "execution_count": 2,
   "metadata": {},
   "outputs": [],
   "source": [
    "import pyspark\n",
    "\n",
    "from pyspark.sql import SparkSession"
   ]
  },
  {
   "cell_type": "code",
   "execution_count": 3,
   "metadata": {},
   "outputs": [],
   "source": [
    "spark = SparkSession.builder.master(\"local[*]\").getOrCreate()"
   ]
  },
  {
   "cell_type": "code",
   "execution_count": 4,
   "metadata": {},
   "outputs": [
    {
     "data": {
      "text/html": [
       "\n",
       "            <div>\n",
       "                <p><b>SparkSession - in-memory</b></p>\n",
       "                \n",
       "        <div>\n",
       "            <p><b>SparkContext</b></p>\n",
       "\n",
       "            <p><a href=\"http://192.168.1.47:4040\">Spark UI</a></p>\n",
       "\n",
       "            <dl>\n",
       "              <dt>Version</dt>\n",
       "                <dd><code>v3.2.1</code></dd>\n",
       "              <dt>Master</dt>\n",
       "                <dd><code>local[*]</code></dd>\n",
       "              <dt>AppName</dt>\n",
       "                <dd><code>pyspark-shell</code></dd>\n",
       "            </dl>\n",
       "        </div>\n",
       "        \n",
       "            </div>\n",
       "        "
      ],
      "text/plain": [
       "<pyspark.sql.session.SparkSession at 0x1b0acdcb7c8>"
      ]
     },
     "execution_count": 4,
     "metadata": {},
     "output_type": "execute_result"
    }
   ],
   "source": [
    "spark"
   ]
  },
  {
   "cell_type": "code",
   "execution_count": 5,
   "metadata": {},
   "outputs": [],
   "source": [
    "df = spark.read.csv('data/CarSales.csv', header=True)"
   ]
  },
  {
   "cell_type": "code",
   "execution_count": 6,
   "metadata": {},
   "outputs": [
    {
     "name": "stdout",
     "output_type": "stream",
     "text": [
      "+-----------+------------+--------------+--------+---------+---------+-------------+--------------+----------+---------+--------------+-------------+--------------------+-------------+--------------+-----------------+-----------+--------------------+--------------+------------+--------------------+\n",
      "|InvoiceDate|        Make|   CountryName|IsDealer|SalePrice|CostPrice|TotalDiscount|DeliveryCharge|SpareParts|LaborCost|    ClientName|        Model|               Color|ReportingYear|ReportingMonth|Registration_Date|VehicleType|       InvoiceNumber|CountryISOCode|OuterPostode|              Region|\n",
      "+-----------+------------+--------------+--------+---------+---------+-------------+--------------+----------+---------+--------------+-------------+--------------------+-------------+--------------+-----------------+-----------+--------------------+--------------+------------+--------------------+\n",
      "| 04/10/2012| Rolls Royce|United Kingdom|    NULL|    95000|    50000|          500|           750|       500|      750|   Aldo Motors|     Camargue|                 Red|         2012|            10|       08/01/1985|     Saloon|8B3D7F83-F42C-452...|           GBR|          ST|       East Midlands|\n",
      "| 01/01/2012|Aston Martin|United Kingdom|    NULL|   120000|    75000|            0|          1500|       600|      550|   Honest John|          DBS|                Blue|         2012|             1|       09/05/2007|      Coupe|139BEEEF-FF32-4BE...|           GBR|          EC|Greater London Au...|\n",
      "| 02/02/2012| Rolls Royce|United Kingdom|    NULL|    88000|    75000|          750|          1000|       750|      550| Bright Orange| Silver Ghost|               Green|         2012|             2|       08/09/2006|     Saloon|D35D72CD-5FF3-470...|           GBR|           B|       West Midlands|\n",
      "| 03/03/2012| Rolls Royce|United Kingdom|    NULL|    89000|    88000|            0|          1000|        85|      550|   Honest John| Silver Ghost|                Blue|         2012|             3|       05/01/1987|     Saloon|2ABAA300-E2A5-4E3...|           GBR|          EC|Greater London Au...|\n",
      "| 04/04/2012| Rolls Royce|United Kingdom|    NULL|    92000|    62000|            0|          1500|      2500|      550|   Wheels'R'Us|     Camargue|       Canary Yellow|         2012|             4|       08/01/1985|     Saloon|A1C2D846-EC39-46F...|           GBR|          NE|Greater London Au...|\n",
      "| 04/05/2012| Rolls Royce|United Kingdom|    NULL|   102500|   125000|            0|          1000|      4000|      550|    Cut'n'Shut|     Camargue|British Racing Green|         2012|             5|       06/05/1986|     Saloon|1B8F325A-CC41-4BA...|           GBR|           M|          North West|\n",
      "| 04/06/2012|Aston Martin|United Kingdom|    NULL|   110000|    56000|          750|           500|       900|      550| Bright Orange|          DBS|         Dark Purple|         2012|             6|       09/08/1991|      Coupe|F1B566F0-D137-481...|           GBR|           B|       West Midlands|\n",
      "| 04/07/2012|Aston Martin|        France|    NULL|   125000|    23500|         2500|          1000|       900|      550|Les Arnaqueurs|          DB7|                 Red|         2012|             7|       08/05/1992|      Coupe|ADFFAC9E-DFF3-4BA...|           FRA|        NULL|                NULL|\n",
      "| 04/08/2012|Aston Martin|United Kingdom|    NULL|   130000|    15500|            0|          1000|       900|      750|   Aldo Motors|          DB9|                Blue|         2012|             8|       08/09/2005|      Coupe|15A3BC61-82BD-4CC...|           GBR|          ST|       East Midlands|\n",
      "| 04/09/2012|Aston Martin|United Kingdom|    NULL|    75000|    75890|            0|          1000|       750|      750|   Aldo Motors|          DB9|              Silver|         2012|             9|       08/05/1993|      Coupe|CFC6726D-1522-498...|           GBR|          ST|       East Midlands|\n",
      "| 04/09/2012|Aston Martin|United Kingdom|    NULL|    68500|    99000|            0|          1000|       750|      750|   Aldo Motors|          DB4|          Night Blue|         2012|             9|       06/05/1975|      Coupe|CFC6726D-1522-498...|           GBR|          ST|       East Midlands|\n",
      "| 04/11/2012|Aston Martin|        France|    NULL|    95000|   125000|            0|          1500|       750|      750|Les Arnaqueurs|      Vantage|       Canary Yellow|         2012|            11|       15/01/1985|      Coupe|C4A55876-3893-4D1...|           FRA|        NULL|                NULL|\n",
      "| 04/11/2012|Aston Martin|United Kingdom|    NULL|   155000|   125000|            0|          1500|       600|      750|   Wheels'R'Us|     Vanquish|          Night Blue|         2012|            11|       29/03/1979|      Coupe|4DFCF7EF-C853-4D7...|           GBR|          NE|Greater London Au...|\n",
      "| 04/12/2012|Aston Martin|United Kingdom|    NULL|    95000|   155000|         5000|          1500|       600|      570| Bright Orange|       Rapide|               Black|         2012|            12|       08/09/2004|      Coupe|B47CA156-7077-469...|           GBR|           B|       West Midlands|\n",
      "| 04/12/2012|Aston Martin|United Kingdom|    NULL|   178500|   125000|            0|          1500|       600|      570|    Cut'n'Shut|       Zagato|British Racing Green|         2012|            12|       04/06/1994|      Coupe|7DBAF8FB-E346-4B8...|           GBR|           M|          North West|\n",
      "| 02/01/2013| Rolls Royce|        France|    NULL|   130000|    62000|            0|          1750|       600|      570|Les Arnaqueurs| Silver Ghost|       Canary Yellow|         2013|             1|       08/09/2006|     Saloon|4799184A-499A-46A...|           FRA|        NULL|                NULL|\n",
      "| 02/02/2013| Rolls Royce|United Kingdom|    NULL|   178500|    62000|            0|          1750|       600|      654|   Wheels'R'Us|       Wraith|              Silver|         2013|             2|       01/09/2000|     Saloon|2AE72D9C-5526-400...|           GBR|          NE|Greater London Au...|\n",
      "| 02/03/2013| Rolls Royce|United Kingdom|    NULL|   110000|    75890|            0|           990|       600|      987|    Cut'n'Shut| Silver Ghost|               Green|         2013|             3|       10/05/1997|     Saloon|5963EAA5-4F09-42F...|           GBR|           M|          North West|\n",
      "| 02/04/2013| Rolls Royce|United Kingdom|    NULL|   130000|    62000|            0|           500|       600|      654| Bright Orange|     Camargue|                Blue|         2013|             4|       01/09/2001|     Saloon|C6ECDC8D-5356-4E1...|           GBR|           B|       West Midlands|\n",
      "| 02/05/2013| Rolls Royce|United Kingdom|    NULL|   178500|    75890|          950|          1750|       450|      321|   Honest John|Silver Shadow|                 Red|         2013|             5|       08/06/2005|     Saloon|EA924C34-F8FD-4E2...|           GBR|          EC|Greater London Au...|\n",
      "+-----------+------------+--------------+--------+---------+---------+-------------+--------------+----------+---------+--------------+-------------+--------------------+-------------+--------------+-----------------+-----------+--------------------+--------------+------------+--------------------+\n",
      "only showing top 20 rows\n",
      "\n"
     ]
    }
   ],
   "source": [
    "df.show()"
   ]
  },
  {
   "cell_type": "code",
   "execution_count": 7,
   "metadata": {},
   "outputs": [
    {
     "data": {
      "text/plain": [
       "457"
      ]
     },
     "execution_count": 7,
     "metadata": {},
     "output_type": "execute_result"
    }
   ],
   "source": [
    "df.count()"
   ]
  },
  {
   "cell_type": "code",
   "execution_count": 8,
   "metadata": {},
   "outputs": [
    {
     "name": "stdout",
     "output_type": "stream",
     "text": [
      "+------------+\n",
      "|        Make|\n",
      "+------------+\n",
      "|      Jaguar|\n",
      "|         TVR|\n",
      "| Rolls Royce|\n",
      "|         MGB|\n",
      "|     Triumph|\n",
      "|     Bentley|\n",
      "|Aston Martin|\n",
      "+------------+\n",
      "\n"
     ]
    }
   ],
   "source": [
    "df.select('Make').distinct().show()"
   ]
  },
  {
   "cell_type": "code",
   "execution_count": 9,
   "metadata": {},
   "outputs": [],
   "source": [
    "df.createOrReplaceTempView('carsales')"
   ]
  },
  {
   "cell_type": "code",
   "execution_count": 10,
   "metadata": {},
   "outputs": [
    {
     "name": "stdout",
     "output_type": "stream",
     "text": [
      "61\n",
      "+-----------+------+--------------+--------+---------+---------+-------------+--------------+----------+---------+-------------+-----+--------------------+-------------+--------------+-----------------+-----------+--------------------+--------------+------------+--------------------+\n",
      "|InvoiceDate|  Make|   CountryName|IsDealer|SalePrice|CostPrice|TotalDiscount|DeliveryCharge|SpareParts|LaborCost|   ClientName|Model|               Color|ReportingYear|ReportingMonth|Registration_Date|VehicleType|       InvoiceNumber|CountryISOCode|OuterPostode|              Region|\n",
      "+-----------+------+--------------+--------+---------+---------+-------------+--------------+----------+---------+-------------+-----+--------------------+-------------+--------------+-----------------+-----------+--------------------+--------------+------------+--------------------+\n",
      "| 01/05/2012|Jaguar|United Kingdom|    NULL|    44000|    25000|          500|           500|      1950|      486|Bright Orange| XJ12|       Canary Yellow|         2012|             5|       01/09/2000|     Saloon|D672CF3B-B536-430...|           GBR|           B|       West Midlands|\n",
      "| 01/06/2012|Jaguar|United Kingdom|    NULL|    39500|    37500|          500|           500|      1950|      486|  Honest John|   XK|          Night Blue|         2012|             6|       01/09/2000|      Coupe|96FFBA29-A4EC-434...|           GBR|          EC|Greater London Au...|\n",
      "| 01/07/2012|Jaguar|United Kingdom|    NULL|    44000|    25000|          500|          1750|      1950|      486|  Wheels'R'Us|   XK|               Green|         2012|             7|       01/09/2000|      Coupe|5470F16B-DE08-4D6...|           GBR|          NE|Greater London Au...|\n",
      "| 01/08/2012|Jaguar|United Kingdom|    NULL|   110000|    50000|          750|           500|      2570|      486|   Cut'n'Shut| XJ12|                Blue|         2012|             8|       01/06/1997|     Saloon|EBF453E4-A6BF-4E0...|           GBR|           M|          North West|\n",
      "| 01/11/2012|Jaguar|United Kingdom|    NULL|    39500|    25000|            0|           500|      2570|      987|  Aldo Motors|   XK|         Dark Purple|         2012|            11|       01/06/1997|      Coupe|D0CE6FF1-6E4E-4FB...|           GBR|          ST|       East Midlands|\n",
      "| 01/12/2012|Jaguar|United Kingdom|    NULL|    44000|    37500|            0|           500|      2570|      987|  Aldo Motors|   XK|               Black|         2012|            12|       01/06/1997|      Coupe|CC62F0FE-DE63-4DB...|           GBR|          ST|       East Midlands|\n",
      "| 02/01/2013|Jaguar|United Kingdom|    NULL|    44000|    25000|            0|          1750|      1950|      987|  Honest John|   XK|British Racing Green|         2013|             1|       01/06/1997|      Coupe|C48AC320-AAC5-482...|           GBR|          EC|Greater London Au...|\n",
      "| 02/02/2013|Jaguar|United Kingdom|    NULL|    44000|    37500|            0|           500|      1950|      987|Bright Orange|   XK|         Dark Purple|         2013|             2|       01/06/1997|      Coupe|C4CF9DF2-D1D6-4B8...|           GBR|           B|       West Midlands|\n",
      "| 02/03/2013|Jaguar|United Kingdom|    NULL|    39500|    25000|          750|           500|      1950|      987|   Cut'n'Shut|  XJ6|                 Red|         2013|             3|       20/09/2006|     Saloon|E73299AB-BD12-493...|           GBR|           M|          North West|\n",
      "| 02/04/2013|Jaguar|United Kingdom|    NULL|   110000|    37500|          750|           500|      1950|      987|  Wheels'R'Us|  XJ6|                 Red|         2013|             4|       20/09/2006|     Saloon|C769C357-1729-479...|           GBR|          NE|Greater London Au...|\n",
      "| 02/05/2013|Jaguar|United Kingdom|    NULL|    44000|    25000|          750|           500|      1950|      987| Crippen & Co|  XJ6|                 Red|         2013|             5|       20/09/2006|     Saloon|7A330E22-9A47-40C...|           GBR|        NULL|                NULL|\n",
      "| 02/08/2013|Jaguar|United Kingdom|    NULL|    39500|    12500|          500|           450|      1950|      750| Crippen & Co|   XK|               Black|         2013|             8|       20/09/2006|      Coupe|862A69B7-DFFA-4D2...|           GBR|        NULL|                NULL|\n",
      "| 02/10/2013|Jaguar|United Kingdom|    NULL|    39500|    37500|          750|           500|      1950|      750|  Wheels'R'Us|   XK|       Canary Yellow|         2013|            10|       20/09/2006|      Coupe|37C64D13-099E-48F...|           GBR|          NE|Greater London Au...|\n",
      "| 02/11/2013|Jaguar|United Kingdom|    NULL|    39500|    25000|          750|           500|      1950|     1250|  Wheels'R'Us|   XK|              Silver|         2013|            11|       20/09/2006|     Saloon|FFAFCDD1-91B2-411...|           GBR|          NE|Greater London Au...|\n",
      "| 02/12/2013|Jaguar|United Kingdom|    NULL|    39500|    37500|          750|           500|      2570|     1250|   Cut'n'Shut|  XJ6|               Green|         2013|            12|       20/09/2006|     Saloon|FA5705F3-3AF7-479...|           GBR|           M|          North West|\n",
      "| 02/07/2013|Jaguar|United Kingdom|    NULL|    41250|    37500|          150|            50|       400|      325|  Honest John|   XK|       Canary Yellow|         2013|             7|       20/09/2006|     Saloon|B5FBD2E8-9268-4E0...|           GBR|          EC|Greater London Au...|\n",
      "| 02/09/2013|Jaguar|United Kingdom|    NULL|    39500|    37500|          150|            50|       400|      325|  Wheels'R'Us|   XK|               Green|         2013|             9|       20/09/2006|     Saloon|ACE8BA84-200B-4EC...|           GBR|          NE|Greater London Au...|\n",
      "| 02/11/2013|Jaguar|United Kingdom|    NULL|    29750|    37500|          150|            50|       400|      325|  Wheels'R'Us|   XK|                Blue|         2013|            11|       20/09/2006|      Coupe|2C1C7B34-864E-4A9...|           GBR|          NE|Greater London Au...|\n",
      "| 02/12/2013|Jaguar|United Kingdom|    NULL|    41250|    37500|          150|            50|       400|      325|Bright Orange|  XJ6|                Blue|         2013|            12|       20/09/2006|     Saloon|FAE956A1-F3C7-432...|           GBR|           B|       West Midlands|\n",
      "| 02/01/2013|Jaguar|United Kingdom|    NULL|    39500|    25700|          150|            50|       250|      250|Olde Englande|  XJ6|         Dark Purple|         2013|             1|       20/09/2006|     Saloon|C299F6A2-17DC-42A...|           GBR|          TF|       West Midlands|\n",
      "+-----------+------+--------------+--------+---------+---------+-------------+--------------+----------+---------+-------------+-----+--------------------+-------------+--------------+-----------------+-----------+--------------------+--------------+------------+--------------------+\n",
      "only showing top 20 rows\n",
      "\n"
     ]
    }
   ],
   "source": [
    "uk_jag = spark.sql('SELECT * from carsales where Make=\\\"Jaguar\\\" AND CountryName=\\\"United Kingdom\\\"')\n",
    "\n",
    "print(uk_jag.count())\n",
    "uk_jag.show()"
   ]
  },
  {
   "cell_type": "code",
   "execution_count": 11,
   "metadata": {},
   "outputs": [
    {
     "data": {
      "text/plain": [
       "Text(0.5, 0, 'Total Sales')"
      ]
     },
     "execution_count": 11,
     "metadata": {},
     "output_type": "execute_result"
    },
    {
     "data": {
      "image/png": "[encoded data removed]",
      "text/plain": [
       "<Figure size 432x288 with 1 Axes>"
      ]
     },
     "metadata": {
      "needs_background": "light"
     },
     "output_type": "display_data"
    }
   ],
   "source": [
    "%matplotlib inline\n",
    "import pandas as pd\n",
    "\n",
    "# convert to pandas for plotting\n",
    "\n",
    "pandas_df = uk_jag.toPandas()\n",
    "\n",
    "ax = pandas_df.groupby('Region')['Color'].count().sort_values().plot(kind='barh',\n",
    "                                                                     title='Sales Count of Jaguar in UK by Region')\n",
    "\n",
    "ax.set_xlabel('Total Sales')"
   ]
  }
 ],
 "metadata": {
  "kernelspec": {
   "display_name": "Python 3",
   "language": "python",
   "name": "python3"
  },
  "language_info": {
   "codemirror_mode": {
    "name": "ipython",
    "version": 3
   },
   "file_extension": ".py",
   "mimetype": "text/x-python",
   "name": "python",
   "nbconvert_exporter": "python",
   "pygments_lexer": "ipython3",
   "version": "3.7.4"
  }
 },
 "nbformat": 4,
 "nbformat_minor": 4
}
