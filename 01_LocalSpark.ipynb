{
 "cells": [
  {
   "cell_type": "code",
   "execution_count": 2,
   "metadata": {},
   "outputs": [],
   "source": [
    "import pyspark\n",
    "from pyspark import SparkContext\n",
    "\n",
    "conf = pyspark.SparkConf().setMaster('local[1]').setAppName('LocalSparkTest')\n",
    "sc = SparkContext(conf=conf)"
   ]
  },
  {
   "cell_type": "code",
   "execution_count": 3,
   "metadata": {},
   "outputs": [
    {
     "data": {
      "text/html": [
       "\n",
       "        <div>\n",
       "            <p><b>SparkContext</b></p>\n",
       "\n",
       "            <p><a href=\"http://hadoop-master:4040\">Spark UI</a></p>\n",
       "\n",
       "            <dl>\n",
       "              <dt>Version</dt>\n",
       "                <dd><code>v2.4.4</code></dd>\n",
       "              <dt>Master</dt>\n",
       "                <dd><code>local[*]</code></dd>\n",
       "              <dt>AppName</dt>\n",
       "                <dd><code>pyspark-shell</code></dd>\n",
       "            </dl>\n",
       "        </div>\n",
       "        "
      ],
      "text/plain": [
       "<SparkContext master=local[*] appName=pyspark-shell>"
      ]
     },
     "execution_count": 3,
     "metadata": {},
     "output_type": "execute_result"
    }
   ],
   "source": [
    "sc"
   ]
  },
  {
   "cell_type": "markdown",
   "metadata": {},
   "source": [
    "Read the Macbeth file from the local filesystem and count the words on each line"
   ]
  },
  {
   "cell_type": "code",
   "execution_count": 14,
   "metadata": {},
   "outputs": [
    {
     "data": {
      "text/plain": [
       "file:///home/ec2-user/spark_notebooks/Macbeth.txt MapPartitionsRDD[14] at textFile at NativeMethodAccessorImpl.java:0"
      ]
     },
     "execution_count": 14,
     "metadata": {},
     "output_type": "execute_result"
    }
   ],
   "source": [
    "localFileRdd = sc.textFile(\"file:///home/ec2-user/spark_notebooks/Macbeth.txt\")\n",
    "localFileRdd"
   ]
  },
  {
   "cell_type": "code",
   "execution_count": 15,
   "metadata": {},
   "outputs": [
    {
     "name": "stdout",
     "output_type": "stream",
     "text": [
      "Total word count:  18088\n",
      "Average words per line:  4.4095563139931695\n"
     ]
    }
   ],
   "source": [
    "wordsPerLineRdd = localFileRdd.map(lambda line: len(line.split()))\n",
    "\n",
    "wordsPerLineRdd.cache()\n",
    "\n",
    "print(\"Total word count: \", wordsPerLineRdd.sum())\n",
    "print(\"Average words per line: \", wordsPerLineRdd.mean())"
   ]
  },
  {
   "cell_type": "code",
   "execution_count": 28,
   "metadata": {},
   "outputs": [
    {
     "data": {
      "text/plain": [
       "hdfs://hadoop-master:9000/user/ec2-user/Macbeth.txt MapPartitionsRDD[50] at textFile at NativeMethodAccessorImpl.java:0"
      ]
     },
     "execution_count": 28,
     "metadata": {},
     "output_type": "execute_result"
    }
   ],
   "source": [
    "hdfsFileRdd = sc.textFile(\"hdfs://hadoop-master:9000/user/ec2-user/Macbeth.txt\")\n",
    "hdfsFileRdd"
   ]
  },
  {
   "cell_type": "code",
   "execution_count": 29,
   "metadata": {},
   "outputs": [
    {
     "name": "stdout",
     "output_type": "stream",
     "text": [
      "Total word count:  18088\n",
      "Average words per line:  4.4095563139931695\n"
     ]
    }
   ],
   "source": [
    "hdfsWordsPerLineRdd = hdfsFileRdd.map(lambda line: len(line.split()))\n",
    "\n",
    "hdfsWordsPerLineRdd.cache()\n",
    "\n",
    "print(\"Total word count: \", hdfsWordsPerLineRdd.sum())\n",
    "print(\"Average words per line: \", hdfsWordsPerLineRdd.mean())"
   ]
  },
  {
   "cell_type": "markdown",
   "metadata": {},
   "source": [
    "write the wordsPerLineRdd to a directory in hdfs"
   ]
  },
  {
   "cell_type": "code",
   "execution_count": 30,
   "metadata": {},
   "outputs": [
   ],
   "source": [
    "hdfsWordsPerLineRdd.saveAsTextFile(\"hdfs://hadoop-master:9000/user/ec2-user/macbethWordsPerLine\")"
   ]
  }
 ],
 "metadata": {
  "kernelspec": {
   "display_name": "Python 2",
   "language": "python",
   "name": "python2"
  },
  "language_info": {
   "codemirror_mode": {
    "name": "ipython",
    "version": 2
   },
   "file_extension": ".py",
   "mimetype": "text/x-python",
   "name": "python",
   "nbconvert_exporter": "python",
   "pygments_lexer": "ipython2",
   "version": "2.7.15"
  }
 },
 "nbformat": 4,
 "nbformat_minor": 2
}
