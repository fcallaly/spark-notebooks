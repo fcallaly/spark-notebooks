{
 "cells": [
  {
   "cell_type": "code",
   "execution_count": 1,
   "metadata": {},
   "outputs": [],
   "source": [
    "import pyspark\n",
    "from pyspark import SparkContext, SQLContext\n",
    "\n",
    "conf = pyspark.SparkConf().setMaster('local[1]').setAppName('LocalSparkSqlTest')\n",
    "sc = SparkContext(conf=conf)\n",
    "sqlContext = SQLContext(sc)"
   ]
  },
  {
   "cell_type": "code",
   "execution_count": 2,
   "metadata": {},
   "outputs": [
    {
     "data": {
      "text/html": [
       "\n",
       "        <div>\n",
       "            <p><b>SparkContext</b></p>\n",
       "\n",
       "            <p><a href=\"http://hadoop-master:4042\">Spark UI</a></p>\n",
       "\n",
       "            <dl>\n",
       "              <dt>Version</dt>\n",
       "                <dd><code>v2.4.4</code></dd>\n",
       "              <dt>Master</dt>\n",
       "                <dd><code>local[1]</code></dd>\n",
       "              <dt>AppName</dt>\n",
       "                <dd><code>LocalSparkSqlTest</code></dd>\n",
       "            </dl>\n",
       "        </div>\n",
       "        "
      ],
      "text/plain": [
       "<SparkContext master=local[1] appName=LocalSparkSqlTest>"
      ]
     },
     "execution_count": 2,
     "metadata": {},
     "output_type": "execute_result"
    }
   ],
   "source": [
    "sc"
   ]
  },
  {
   "cell_type": "markdown",
   "metadata": {},
   "source": [
    "Read the Airports file into a Spark Dataframe.\n",
    "\n",
    "Note the used of the sqlContext for this.\n",
    "\n",
    "Count the rows, display the first 5 rows"
   ]
  },
  {
   "cell_type": "code",
   "execution_count": 3,
   "metadata": {},
   "outputs": [
    {
     "name": "stdout",
     "output_type": "stream",
     "text": [
      "322\n"
     ]
    },
    {
     "data": {
      "text/plain": [
       "[Row(IATA_CODE='ABE', AIRPORT='Lehigh Valley International Airport', CITY='Allentown', STATE='PA', COUNTRY='USA', LATITUDE='40.65236', LONGITUDE='-75.44040'),\n",
       " Row(IATA_CODE='ABI', AIRPORT='Abilene Regional Airport', CITY='Abilene', STATE='TX', COUNTRY='USA', LATITUDE='32.41132', LONGITUDE='-99.68190'),\n",
       " Row(IATA_CODE='ABQ', AIRPORT='Albuquerque International Sunport', CITY='Albuquerque', STATE='NM', COUNTRY='USA', LATITUDE='35.04022', LONGITUDE='-106.60919'),\n",
       " Row(IATA_CODE='ABR', AIRPORT='Aberdeen Regional Airport', CITY='Aberdeen', STATE='SD', COUNTRY='USA', LATITUDE='45.44906', LONGITUDE='-98.42183'),\n",
       " Row(IATA_CODE='ABY', AIRPORT='Southwest Georgia Regional Airport', CITY='Albany', STATE='GA', COUNTRY='USA', LATITUDE='31.53552', LONGITUDE='-84.19447')]"
      ]
     },
     "execution_count": 3,
     "metadata": {},
     "output_type": "execute_result"
    }
   ],
   "source": [
    "airportsDf = sqlContext.read.csv(\"hdfs://hadoop-master:9000/user/ec2-user/airports.csv\", header=True)\n",
    "print(airportsDf.count())\n",
    "airportsDf.take(5)"
   ]
  },
  {
   "cell_type": "markdown",
   "metadata": {},
   "source": [
    "Some columns are strings that we want to convert to double"
   ]
  },
  {
   "cell_type": "code",
   "execution_count": 4,
   "metadata": {},
   "outputs": [
    {
     "name": "stdout",
     "output_type": "stream",
     "text": [
      "original dtypes:  [('IATA_CODE', 'string'), ('AIRPORT', 'string'), ('CITY', 'string'), ('STATE', 'string'), ('COUNTRY', 'string'), ('LATITUDE', 'string'), ('LONGITUDE', 'string')]\n",
      "updated dtypes:  [('IATA_CODE', 'string'), ('AIRPORT', 'string'), ('CITY', 'string'), ('STATE', 'string'), ('COUNTRY', 'string'), ('LATITUDE', 'double'), ('LONGITUDE', 'double')]\n"
     ]
    }
   ],
   "source": [
    "from pyspark.sql.types import DoubleType\n",
    "print(\"original dtypes: \", airportsDf.dtypes)\n",
    "airportsDf = airportsDf.withColumn(\"LATITUDE\", airportsDf[\"LATITUDE\"].cast(DoubleType()))\n",
    "airportsDf = airportsDf.withColumn(\"LONGITUDE\", airportsDf[\"LONGITUDE\"].cast(DoubleType()))\n",
    "print(\"updated dtypes: \", airportsDf.dtypes)"
   ]
  },
  {
   "cell_type": "markdown",
   "metadata": {},
   "source": [
    "Now we can filter the Spark Dataframe similar to how it's done with pandas"
   ]
  },
  {
   "cell_type": "code",
   "execution_count": 5,
   "metadata": {},
   "outputs": [
    {
     "data": {
      "text/plain": [
       "12"
      ]
     },
     "execution_count": 5,
     "metadata": {},
     "output_type": "execute_result"
    }
   ],
   "source": [
    "tropAirports = airportsDf.filter((airportsDf[\"LATITUDE\"] > -23) & (airportsDf[\"LATITUDE\"] < 23))\n",
    "tropAirports.count()"
   ]
  },
  {
   "cell_type": "code",
   "execution_count": 6,
   "metadata": {},
   "outputs": [
    {
     "data": {
      "text/plain": [
       "[Row(IATA_CODE='BQN', AIRPORT='Rafael Hernández Airport', CITY='Aguadilla', STATE='PR', COUNTRY='USA', LATITUDE=18.49486, LONGITUDE=-67.12944),\n",
       " Row(IATA_CODE='GUM', AIRPORT='Guam International Airport', CITY='Agana', STATE='GU', COUNTRY='USA', LATITUDE=13.48345, LONGITUDE=-144.79598),\n",
       " Row(IATA_CODE='HNL', AIRPORT='Honolulu International Airport', CITY='Honolulu', STATE='HI', COUNTRY='USA', LATITUDE=21.31869, LONGITUDE=-157.92241),\n",
       " Row(IATA_CODE='ITO', AIRPORT='Hilo International Airport', CITY='Hilo', STATE='HI', COUNTRY='USA', LATITUDE=19.72026, LONGITUDE=-155.04847),\n",
       " Row(IATA_CODE='KOA', AIRPORT='Kona International Airport at Keahole', CITY='Kailua/Kona', STATE='HI', COUNTRY='USA', LATITUDE=19.73877, LONGITUDE=-156.04563),\n",
       " Row(IATA_CODE='LIH', AIRPORT='Lihue Airport', CITY='Lihue', STATE='HI', COUNTRY='USA', LATITUDE=21.97598, LONGITUDE=-159.33896),\n",
       " Row(IATA_CODE='OGG', AIRPORT='Kahului Airport', CITY='Kahului', STATE='HI', COUNTRY='USA', LATITUDE=20.89865, LONGITUDE=-156.43046),\n",
       " Row(IATA_CODE='PPG', AIRPORT='Pago Pago International Airport (Tafuna Airport)', CITY='Pago Pago', STATE='AS', COUNTRY='USA', LATITUDE=14.33102, LONGITUDE=-170.71053),\n",
       " Row(IATA_CODE='PSE', AIRPORT='Mercedita Airport', CITY='Ponce', STATE='PR', COUNTRY='USA', LATITUDE=18.0083, LONGITUDE=-66.56301),\n",
       " Row(IATA_CODE='SJU', AIRPORT='Luis Muñoz Marín International Airport', CITY='San Juan', STATE='PR', COUNTRY='USA', LATITUDE=18.43942, LONGITUDE=-66.00183),\n",
       " Row(IATA_CODE='STT', AIRPORT='Cyril E. King Airport', CITY='Charlotte Amalie', STATE='VI', COUNTRY='USA', LATITUDE=18.33731, LONGITUDE=-64.97336),\n",
       " Row(IATA_CODE='STX', AIRPORT='Henry E. Rohlsen Airport', CITY='Christiansted', STATE='VI', COUNTRY='USA', LATITUDE=17.70189, LONGITUDE=-64.79856)]"
      ]
     },
     "execution_count": 6,
     "metadata": {},
     "output_type": "execute_result"
    }
   ],
   "source": [
    "tropAirports.collect()"
   ]
  },
  {
   "cell_type": "code",
   "execution_count": 7,
   "metadata": {},
   "outputs": [],
   "source": [
    "tropAirports.write.format(\"csv\").save(\"hdfs://hadoop-master:9000/user/ec2-user/tropAirports.csv\", header=True)"
   ]
  },
  {
   "cell_type": "markdown",
   "metadata": {},
   "source": [
    "We can convert a spark dataframe to a pandas dataframe if we've cut it down to a small enough size"
   ]
  },
  {
   "cell_type": "code",
   "execution_count": 8,
   "metadata": {},
   "outputs": [
    {
     "data": {
      "text/html": [
       "<div>\n",
       "<style scoped>\n",
       "    .dataframe tbody tr th:only-of-type {\n",
       "        vertical-align: middle;\n",
       "    }\n",
       "\n",
       "    .dataframe tbody tr th {\n",
       "        vertical-align: top;\n",
       "    }\n",
       "\n",
       "    .dataframe thead th {\n",
       "        text-align: right;\n",
       "    }\n",
       "</style>\n",
       "<table border=\"1\" class=\"dataframe\">\n",
       "  <thead>\n",
       "    <tr style=\"text-align: right;\">\n",
       "      <th></th>\n",
       "      <th>AIRPORT</th>\n",
       "      <th>CITY</th>\n",
       "      <th>STATE</th>\n",
       "      <th>COUNTRY</th>\n",
       "      <th>LATITUDE</th>\n",
       "      <th>LONGITUDE</th>\n",
       "    </tr>\n",
       "    <tr>\n",
       "      <th>IATA_CODE</th>\n",
       "      <th></th>\n",
       "      <th></th>\n",
       "      <th></th>\n",
       "      <th></th>\n",
       "      <th></th>\n",
       "      <th></th>\n",
       "    </tr>\n",
       "  </thead>\n",
       "  <tbody>\n",
       "    <tr>\n",
       "      <th>BQN</th>\n",
       "      <td>Rafael Hernández Airport</td>\n",
       "      <td>Aguadilla</td>\n",
       "      <td>PR</td>\n",
       "      <td>USA</td>\n",
       "      <td>18.49486</td>\n",
       "      <td>-67.12944</td>\n",
       "    </tr>\n",
       "    <tr>\n",
       "      <th>GUM</th>\n",
       "      <td>Guam International Airport</td>\n",
       "      <td>Agana</td>\n",
       "      <td>GU</td>\n",
       "      <td>USA</td>\n",
       "      <td>13.48345</td>\n",
       "      <td>-144.79598</td>\n",
       "    </tr>\n",
       "    <tr>\n",
       "      <th>HNL</th>\n",
       "      <td>Honolulu International Airport</td>\n",
       "      <td>Honolulu</td>\n",
       "      <td>HI</td>\n",
       "      <td>USA</td>\n",
       "      <td>21.31869</td>\n",
       "      <td>-157.92241</td>\n",
       "    </tr>\n",
       "    <tr>\n",
       "      <th>ITO</th>\n",
       "      <td>Hilo International Airport</td>\n",
       "      <td>Hilo</td>\n",
       "      <td>HI</td>\n",
       "      <td>USA</td>\n",
       "      <td>19.72026</td>\n",
       "      <td>-155.04847</td>\n",
       "    </tr>\n",
       "    <tr>\n",
       "      <th>KOA</th>\n",
       "      <td>Kona International Airport at Keahole</td>\n",
       "      <td>Kailua/Kona</td>\n",
       "      <td>HI</td>\n",
       "      <td>USA</td>\n",
       "      <td>19.73877</td>\n",
       "      <td>-156.04563</td>\n",
       "    </tr>\n",
       "    <tr>\n",
       "      <th>LIH</th>\n",
       "      <td>Lihue Airport</td>\n",
       "      <td>Lihue</td>\n",
       "      <td>HI</td>\n",
       "      <td>USA</td>\n",
       "      <td>21.97598</td>\n",
       "      <td>-159.33896</td>\n",
       "    </tr>\n",
       "    <tr>\n",
       "      <th>OGG</th>\n",
       "      <td>Kahului Airport</td>\n",
       "      <td>Kahului</td>\n",
       "      <td>HI</td>\n",
       "      <td>USA</td>\n",
       "      <td>20.89865</td>\n",
       "      <td>-156.43046</td>\n",
       "    </tr>\n",
       "    <tr>\n",
       "      <th>PPG</th>\n",
       "      <td>Pago Pago International Airport (Tafuna Airport)</td>\n",
       "      <td>Pago Pago</td>\n",
       "      <td>AS</td>\n",
       "      <td>USA</td>\n",
       "      <td>14.33102</td>\n",
       "      <td>-170.71053</td>\n",
       "    </tr>\n",
       "    <tr>\n",
       "      <th>PSE</th>\n",
       "      <td>Mercedita Airport</td>\n",
       "      <td>Ponce</td>\n",
       "      <td>PR</td>\n",
       "      <td>USA</td>\n",
       "      <td>18.00830</td>\n",
       "      <td>-66.56301</td>\n",
       "    </tr>\n",
       "    <tr>\n",
       "      <th>SJU</th>\n",
       "      <td>Luis Muñoz Marín International Airport</td>\n",
       "      <td>San Juan</td>\n",
       "      <td>PR</td>\n",
       "      <td>USA</td>\n",
       "      <td>18.43942</td>\n",
       "      <td>-66.00183</td>\n",
       "    </tr>\n",
       "    <tr>\n",
       "      <th>STT</th>\n",
       "      <td>Cyril E. King Airport</td>\n",
       "      <td>Charlotte Amalie</td>\n",
       "      <td>VI</td>\n",
       "      <td>USA</td>\n",
       "      <td>18.33731</td>\n",
       "      <td>-64.97336</td>\n",
       "    </tr>\n",
       "    <tr>\n",
       "      <th>STX</th>\n",
       "      <td>Henry E. Rohlsen Airport</td>\n",
       "      <td>Christiansted</td>\n",
       "      <td>VI</td>\n",
       "      <td>USA</td>\n",
       "      <td>17.70189</td>\n",
       "      <td>-64.79856</td>\n",
       "    </tr>\n",
       "  </tbody>\n",
       "</table>\n",
       "</div>"
      ],
      "text/plain": [
       "                                                    AIRPORT              CITY  \\\n",
       "IATA_CODE                                                                       \n",
       "BQN                                Rafael Hernández Airport         Aguadilla   \n",
       "GUM                              Guam International Airport             Agana   \n",
       "HNL                          Honolulu International Airport          Honolulu   \n",
       "ITO                              Hilo International Airport              Hilo   \n",
       "KOA                   Kona International Airport at Keahole       Kailua/Kona   \n",
       "LIH                                           Lihue Airport             Lihue   \n",
       "OGG                                         Kahului Airport           Kahului   \n",
       "PPG        Pago Pago International Airport (Tafuna Airport)         Pago Pago   \n",
       "PSE                                       Mercedita Airport             Ponce   \n",
       "SJU                  Luis Muñoz Marín International Airport          San Juan   \n",
       "STT                                   Cyril E. King Airport  Charlotte Amalie   \n",
       "STX                                Henry E. Rohlsen Airport     Christiansted   \n",
       "\n",
       "          STATE COUNTRY  LATITUDE  LONGITUDE  \n",
       "IATA_CODE                                     \n",
       "BQN          PR     USA  18.49486  -67.12944  \n",
       "GUM          GU     USA  13.48345 -144.79598  \n",
       "HNL          HI     USA  21.31869 -157.92241  \n",
       "ITO          HI     USA  19.72026 -155.04847  \n",
       "KOA          HI     USA  19.73877 -156.04563  \n",
       "LIH          HI     USA  21.97598 -159.33896  \n",
       "OGG          HI     USA  20.89865 -156.43046  \n",
       "PPG          AS     USA  14.33102 -170.71053  \n",
       "PSE          PR     USA  18.00830  -66.56301  \n",
       "SJU          PR     USA  18.43942  -66.00183  \n",
       "STT          VI     USA  18.33731  -64.97336  \n",
       "STX          VI     USA  17.70189  -64.79856  "
      ]
     },
     "metadata": {},
     "output_type": "display_data"
    }
   ],
   "source": [
    "pdTropAirports = tropAirports.toPandas()\n",
    "pdTropAirports.set_index(\"IATA_CODE\", inplace=True)\n",
    "display(pdTropAirports)"
   ]
  }
 ],
 "metadata": {
  "kernelspec": {
   "display_name": "Python 3",
   "language": "python",
   "name": "python3"
  },
  "language_info": {
   "codemirror_mode": {
    "name": "ipython",
    "version": 3
   },
   "file_extension": ".py",
   "mimetype": "text/x-python",
   "name": "python",
   "nbconvert_exporter": "python",
   "pygments_lexer": "ipython3",
   "version": "3.7.4"
  }
 },
 "nbformat": 4,
 "nbformat_minor": 2
}
