{
 "cells": [
  {
   "cell_type": "code",
   "execution_count": 1,
   "metadata": {},
   "outputs": [],
   "source": [
    "import pyspark\n",
    "from pyspark.sql import HiveContext\n",
    "\n",
    "sc = pyspark.SparkContext()\n",
    "hiveContext = HiveContext(sc)"
   ]
  },
  {
   "cell_type": "code",
   "execution_count": 4,
   "metadata": {},
   "outputs": [
    {
     "name": "stdout",
     "output_type": "stream",
     "text": [
      "+------------+\n",
      "|databaseName|\n",
      "+------------+\n",
      "|       db_fc|\n",
      "|     default|\n",
      "+------------+\n",
      "\n"
     ]
    }
   ],
   "source": [
    "hiveContext.sql(\"show databases\").show()"
   ]
  },
  {
   "cell_type": "code",
   "execution_count": 3,
   "metadata": {},
   "outputs": [
    {
     "name": "stdout",
     "output_type": "stream",
     "text": [
      "+--------+-----------------+-----------+\n",
      "|database|        tableName|isTemporary|\n",
      "+--------+-----------------+-----------+\n",
      "|   db_fc|         airports|      false|\n",
      "|   db_fc|detailedemployees|      false|\n",
      "|   db_fc|        employees|      false|\n",
      "+--------+-----------------+-----------+\n",
      "\n"
     ]
    }
   ],
   "source": [
    "hiveContext.sql(\"use db_fc\")\n",
    "hiveContext.sql(\"show tables\").show()"
   ]
  },
  {
   "cell_type": "code",
   "execution_count": 7,
   "metadata": {},
   "outputs": [
    {
     "name": "stdout",
     "output_type": "stream",
     "text": [
      "+---+----------+----------+------+--------------------+--------------------+--------------------+\n",
      "| id|      name|department|salary|             contact|           languages|              skills|\n",
      "+---+----------+----------+------+--------------------+--------------------+--------------------+\n",
      "|  2|Mary Jones|        HR|1000.0|[mary.jones@acme....|    [Welsh, English]|[Web -> 5, Java -...|\n",
      "|  3|Judy Evans|     Sales|333.99|[judy.evans@acme....|[French, English,...|[RPG -> 4, Cobol ...|\n",
      "+---+----------+----------+------+--------------------+--------------------+--------------------+\n",
      "\n"
     ]
    }
   ],
   "source": [
    "employeesDf = hiveContext.sql('select * from detailedemployees where languages[1] == \"English\"')\n",
    "employeesDf.show()"
   ]
  }
 ],
 "metadata": {
  "kernelspec": {
   "display_name": "Python 2",
   "language": "python",
   "name": "python2"
  },
  "language_info": {
   "codemirror_mode": {
    "name": "ipython",
    "version": 2
   },
   "file_extension": ".py",
   "mimetype": "text/x-python",
   "name": "python",
   "nbconvert_exporter": "python",
   "pygments_lexer": "ipython2",
   "version": "2.7.15"
  }
 },
 "nbformat": 4,
 "nbformat_minor": 2
}
